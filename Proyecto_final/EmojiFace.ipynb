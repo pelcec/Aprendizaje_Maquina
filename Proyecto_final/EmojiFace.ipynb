{
  "nbformat": 4,
  "nbformat_minor": 0,
  "metadata": {
    "colab": {
      "name": "EmojiFace.ipynb",
      "provenance": [],
      "collapsed_sections": []
    },
    "kernelspec": {
      "display_name": "Python 3",
      "language": "python",
      "name": "python3"
    },
    "language_info": {
      "codemirror_mode": {
        "name": "ipython",
        "version": 3
      },
      "file_extension": ".py",
      "mimetype": "text/x-python",
      "name": "python",
      "nbconvert_exporter": "python",
      "pygments_lexer": "ipython3",
      "version": "3.8.3"
    }
  },
  "cells": [
    {
      "cell_type": "markdown",
      "metadata": {
        "id": "NHX--YgmDMlr"
      },
      "source": [
        "<img src=\"https://becasparatodos.com/wp-content/uploads/2017/01/tec-de-monterrey-maestr%C3%ADas.jpg\" style=\"width: 400px;\"/>"
      ]
    },
    {
      "cell_type": "markdown",
      "metadata": {
        "id": "QoWDxKUeBXzW"
      },
      "source": [
        "<h2><center>Campus Ciudad de México, \n",
        "Escuela Ingeniería y Ciencias, \n",
        "Computación</center></h2>\n",
        "\n",
        "<h4><center>Course: TC3020.1 (Machine Learning)</center>\n",
        "<center>Professor: Mauricio Rosales Rivera</center>\n",
        "<center>Final Project - Evaluation</center></h4>\n",
        "    \n",
        "<h4><center>Date: November 13, 2020</center></h4>\n",
        "<h4><center><font color=\"red\">Submit: November 24, 2020</font></center></h4>\n",
        "\n",
        "---\n",
        "\n",
        "<h4>Grade: </h4>\n",
        "\n",
        "---\n",
        "<h4><center>Student's information</center></h4>\n",
        "<h4>Names:</h4> \n",
        "<p>\n",
        "Anne Constanze Schreiber Brito \n",
        "<br> \n",
        "Juan José del Castillo Ramírez \n",
        "<br>\n",
        "Natalia Guevara Muñoz \n",
        "<br> \n",
        "Pablo Ivan Barajas Urbina \n",
        "<br> \n",
        "Jorge Arturo Alcalá Hernández\n",
        "</p>    \n",
        "<h4>Students ID:</h4> <p>\n",
        "A01650066\n",
        "<br>\n",
        "A01654012\n",
        "<br>\n",
        "A01338719\n",
        "<br>\n",
        "A01652848\n",
        "<br>\n",
        "A01337873\n",
        "</p>  \n",
        "<h4>Github:</h4>\n",
        "<p>\n",
        "Anne: https://github.com/ACSBSC/Machine_Learning_A01650066/tree/master/proyecto \n",
        "<br>\n",
        "Juan José: https://github.com/JuanJodelCast/ProyectoML\n",
        "<br>\n",
        "Natalia: https://github.com/Natalia670/Machine-Learning\n",
        "<br>\n",
        "Pablo: https://github.com/pelcec/Aprendizaje_Maquina/tree/master/Proyecto_final\n",
        "<br>\n",
        "Jorge: https://github.com/jorgealcalah/Aprendizaje_Maquina\n",
        "</p>"
      ]
    },
    {
      "cell_type": "markdown",
      "metadata": {
        "id": "8e_x1hG3Dcb5"
      },
      "source": [
        "## <font color=\"brown\">Proyecto Final - Aprendizaje Máquina</font>\n",
        "\n",
        "---\n",
        "\n",
        "Indicaciones: El proyecto seleccionado será desarrollado siguiendo ciertas condiciones. Deberán seguir la estructura recomendada (pero podrán cambiar títulos, es sólo una sugerencia) y podrán añadir secciones en caso de que ser necesario.\n",
        "\n",
        "* La entrega límite de entrega de la notebook será: Martes 24 de noviembre.\n",
        "* Deberán realizar una exposición (entre 10 y 20 minutos a lo mucho), donde proporcionen una explicación acerca de la metodología implementada y los resultados obtenidos.\n",
        "\n",
        "Esta notebook deberá contener el nombre completo, matrícula y el link correspondiente al GitHub de cada integrante.\n",
        "En caso de no tener la información aquí solicitada, no se evaluará el proyecto."
      ]
    },
    {
      "cell_type": "markdown",
      "metadata": {
        "id": "FutpgpHlDlZa"
      },
      "source": [
        "<a id=\"general\"></a>\n",
        "### Contenido\n",
        "\n",
        "-----\n",
        "\n",
        "1. [Objetivo](#a)\n",
        "\n",
        "2. [Implementación del código](#b)\n",
        "    * Entrenamiento de los datos\n",
        "        * Importación de librerias\n",
        "        * Extracción de datos de las IMG\n",
        "        * Mostrar contenido de los IMG\n",
        "        * Definición del modelo\n",
        "        * Entrenamiento del modelo\n",
        "    * Interfaz Gráfica\n",
        "      * Importaciones de la librería\n",
        "      * Modelo\n",
        "      * vid1\n",
        "      * vid2\n",
        "      * creación del GUI\n",
        "\n",
        "-----\n",
        "\n",
        "3. [Conclusiones](#c)\n",
        "\n",
        "-----"
      ]
    },
    {
      "cell_type": "markdown",
      "metadata": {
        "id": "iKX4zf-ADlPw"
      },
      "source": [
        "<a id=\"a\"></a>\n",
        "### 1. Objetivo\n",
        "\n",
        "---\n",
        "[Regresar a contenido](#general)\n",
        "\n",
        "El objetivo dentro de este proyecto es poder crear diferentes emojis dependiendo de las emociones que muestre el rostro humano. Esto a partir de la detección del rostro por camara y del entrenamiento de la máquina para poder distinguir las emociones mostradas."
      ]
    },
    {
      "cell_type": "markdown",
      "metadata": {
        "id": "f2HbQsy4A6jL"
      },
      "source": [
        "<a id=\"b\"></a>\n",
        "### 2. Implementación del código\n",
        "---\n",
        "[Regresar a contenido](#general)"
      ]
    },
    {
      "cell_type": "markdown",
      "metadata": {
        "id": "lPxpMhB8BVGg"
      },
      "source": [
        "<p> Hace imports de las librerías a usar para el entrenamiento </p>"
      ]
    },
    {
      "cell_type": "code",
      "metadata": {
        "id": "qetDWSXicR63"
      },
      "source": [
        "#!pip install keras\n",
        "import numpy as np\n",
        "import pandas as pd\n",
        "import os\n",
        "import matplotlib.pyplot as plt\n",
        "import tensorflow as tf\n",
        "from keras.preprocessing.image import ImageDataGenerator, load_img\n",
        "from keras.layers import Conv2D, Dense, BatchNormalization, Activation, Dropout, MaxPooling2D, Flatten\n",
        "from keras.optimizers import Adam, RMSprop, SGD\n",
        "from keras import regularizers\n",
        "from keras.callbacks import ModelCheckpoint, CSVLogger, TensorBoard, EarlyStopping, ReduceLROnPlateau\n",
        "import datetime\n",
        "\n",
        "from keras.utils import plot_model"
      ],
      "execution_count": null,
      "outputs": []
    },
    {
      "cell_type": "markdown",
      "metadata": {
        "id": "3-J4hXqSdxBM"
      },
      "source": [
        "<p>Se aduieren los datos para el train y el test, el cual son conjunto de imagenes</p><br>\n",
        "<p>Después se realiza un conteo para ve cuántas imágenes por emoción hay</p>"
      ]
    },
    {
      "cell_type": "code",
      "metadata": {
        "colab": {
          "base_uri": "https://localhost:8080/"
        },
        "id": "a9CQ1vlap90A",
        "outputId": "b677ed4d-5bb7-407e-d12d-6cdf8bab3ac9"
      },
      "source": [
        "#train_dir = '/content/drive/My Drive/Colab Notebooks/archive/train/'\n",
        "#test_dir = '/content/drive/My Drive/Colab Notebooks/archive/test/'\n",
        "train_dir = 'archive/train/'\n",
        "test_dir = 'archive/test/'\n",
        "\n",
        "\n",
        "row, col = 48, 48\n",
        "classes = 7\n",
        "\n",
        "def count_exp(path, set_):\n",
        "    dict_ = {}\n",
        "    for expression in os.listdir(path):\n",
        "        dir_ = path + expression\n",
        "        dict_[expression] = len(os.listdir(dir_))\n",
        "    df = pd.DataFrame(dict_, index=[set_])\n",
        "    return df\n",
        "train_count = count_exp(train_dir, 'train')\n",
        "test_count = count_exp(test_dir, 'test')\n",
        "print(train_count)\n",
        "print(test_count)"
      ],
      "execution_count": null,
      "outputs": [
        {
          "output_type": "stream",
          "text": [
            "       angry  disgust  fear  happy  neutral   sad  surprise\n",
            "train   3995      436  4097   7215     4965  4830      3171\n",
            "      angry  disgust  fear  happy  neutral   sad  surprise\n",
            "test    958      111  1024   1774     1233  1247       831\n"
          ],
          "name": "stdout"
        }
      ]
    },
    {
      "cell_type": "markdown",
      "metadata": {
        "id": "m76iwwuTdxBO"
      },
      "source": [
        "<p>Se realizan plots para ver a detalle la cantidad de imágenes por emoción</p><br>\n",
        "<p>Se obtienen 2 diferentes plots, uno para train y otro para test</p>"
      ]
    },
    {
      "cell_type": "code",
      "metadata": {
        "colab": {
          "base_uri": "https://localhost:8080/",
          "height": 314
        },
        "id": "62PU0c9uquaQ",
        "outputId": "29a9072a-5250-4bca-81c3-d5f3ddc278a4"
      },
      "source": [
        "train_count.transpose().plot(kind='bar')"
      ],
      "execution_count": null,
      "outputs": [
        {
          "output_type": "execute_result",
          "data": {
            "text/plain": [
              "<matplotlib.axes._subplots.AxesSubplot at 0x29136ec95b0>"
            ]
          },
          "metadata": {
            "tags": []
          },
          "execution_count": 31
        },
        {
          "output_type": "display_data",
          "data": {
            "image/png": "[encoded data removed]",
            "text/plain": [
              "<Figure size 432x288 with 1 Axes>"
            ]
          },
          "metadata": {
            "tags": [],
            "needs_background": "light"
          }
        }
      ]
    },
    {
      "cell_type": "code",
      "metadata": {
        "colab": {
          "base_uri": "https://localhost:8080/",
          "height": 314
        },
        "id": "9HS35hFscR7d",
        "outputId": "00fc3062-4ce5-464a-9e1b-fb959d73dad8"
      },
      "source": [
        "test_count.transpose().plot(kind='bar')"
      ],
      "execution_count": null,
      "outputs": [
        {
          "output_type": "execute_result",
          "data": {
            "text/plain": [
              "<matplotlib.axes._subplots.AxesSubplot at 0x2913ddf60a0>"
            ]
          },
          "metadata": {
            "tags": []
          },
          "execution_count": 32
        },
        {
          "output_type": "display_data",
          "data": {
            "image/png": "[encoded data removed]",
            "text/plain": [
              "<Figure size 432x288 with 1 Axes>"
            ]
          },
          "metadata": {
            "tags": [],
            "needs_background": "light"
          }
        }
      ]
    },
    {
      "cell_type": "markdown",
      "metadata": {
        "id": "gKb-kE1rdxBP"
      },
      "source": [
        "<p>Se muestran imágenes ejemplo por emoción dentro de la variable train</p>"
      ]
    },
    {
      "cell_type": "code",
      "metadata": {
        "colab": {
          "base_uri": "https://localhost:8080/",
          "height": 142
        },
        "id": "Ce1t0rWMcR7n",
        "outputId": "f28632d0-5fca-4512-a460-5fa4066853ac"
      },
      "source": [
        "plt.figure(figsize=(14,22))\n",
        "i = 1\n",
        "for expression in os.listdir(train_dir):\n",
        "    img = load_img((train_dir + expression +'/'+ os.listdir(train_dir + expression)[1]))\n",
        "    plt.subplot(1,7,i)\n",
        "    plt.imshow(img)\n",
        "    plt.title(expression)\n",
        "    plt.axis('off')\n",
        "    i += 1\n",
        "plt.show()"
      ],
      "execution_count": null,
      "outputs": [
        {
          "output_type": "display_data",
          "data": {
            "image/png": "[encoded data removed]",
            "text/plain": [
              "<Figure size 1008x1584 with 7 Axes>"
            ]
          },
          "metadata": {
            "tags": [],
            "needs_background": "light"
          }
        }
      ]
    },
    {
      "cell_type": "markdown",
      "metadata": {
        "id": "gC_VihprcR7u"
      },
      "source": [
        "<p>Se crean los sets normalizados para el test y el train, basicamente las imágenes se ajustan a un tamaño y escala de colores para normalizarlos </p>"
      ]
    },
    {
      "cell_type": "code",
      "metadata": {
        "colab": {
          "base_uri": "https://localhost:8080/"
        },
        "id": "ZVLMKcWTcR7y",
        "outputId": "2391478d-2950-4291-b5f0-11044b57f1e4"
      },
      "source": [
        "train_datagen = ImageDataGenerator(rescale=1./255,\n",
        "                                   zoom_range=0.3,\n",
        "                                   horizontal_flip=True)\n",
        "\n",
        "training_set = train_datagen.flow_from_directory(train_dir,\n",
        "                                                batch_size=64,\n",
        "                                                target_size=(48,48),\n",
        "                                                shuffle=True,\n",
        "                                                color_mode='grayscale',\n",
        "                                                class_mode='categorical')\n",
        "\n",
        "test_datagen = ImageDataGenerator(rescale=1./255)\n",
        "test_set = test_datagen.flow_from_directory(test_dir,\n",
        "                                                batch_size=64,\n",
        "                                                target_size=(48,48),\n",
        "                                                shuffle=True,\n",
        "                                                color_mode='grayscale',\n",
        "                                                class_mode='categorical')"
      ],
      "execution_count": null,
      "outputs": [
        {
          "output_type": "stream",
          "text": [
            "Found 28709 images belonging to 7 classes.\n",
            "Found 7178 images belonging to 7 classes.\n"
          ],
          "name": "stdout"
        }
      ]
    },
    {
      "cell_type": "code",
      "metadata": {
        "colab": {
          "base_uri": "https://localhost:8080/"
        },
        "id": "KOc77pkkcR76",
        "outputId": "be9d47f4-0a25-40dc-91b3-6c83b65757a4"
      },
      "source": [
        "training_set.class_indices"
      ],
      "execution_count": null,
      "outputs": [
        {
          "output_type": "execute_result",
          "data": {
            "text/plain": [
              "{'angry': 0,\n",
              " 'disgust': 1,\n",
              " 'fear': 2,\n",
              " 'happy': 3,\n",
              " 'neutral': 4,\n",
              " 'sad': 5,\n",
              " 'surprise': 6}"
            ]
          },
          "metadata": {
            "tags": []
          },
          "execution_count": 35
        }
      ]
    },
    {
      "cell_type": "code",
      "metadata": {
        "colab": {
          "base_uri": "https://localhost:8080/"
        },
        "id": "KXYzx-K-cR7_",
        "outputId": "b6c5ebc5-0fc6-4a60-c2b3-471f944548ab"
      },
      "source": [
        "test_set.class_indices"
      ],
      "execution_count": null,
      "outputs": [
        {
          "output_type": "execute_result",
          "data": {
            "text/plain": [
              "{'angry': 0,\n",
              " 'disgust': 1,\n",
              " 'fear': 2,\n",
              " 'happy': 3,\n",
              " 'neutral': 4,\n",
              " 'sad': 5,\n",
              " 'surprise': 6}"
            ]
          },
          "metadata": {
            "tags": []
          },
          "execution_count": 36
        }
      ]
    },
    {
      "cell_type": "markdown",
      "metadata": {
        "id": "XCO4VyYvcR8M"
      },
      "source": [
        "<p> Se define el modelo a utilizar con sus capas ocultas </p>\n",
        "<p>El modelo se basa en capas de redes neuronales, el cual trabaja con aprendizaje supervisado. En este caso este utiliza CNN, la cual es un modelo perteneciente a las redes neuronales que procesa sus capas imitando al cortex visual del ojo humano para identificar distintas características en las entradas que en definitiva hacen que pueda identificar objetos y “ver”. \n",
        "\n",
        "Para ello, la CNN contiene varias capas ocultas especializadas y con una jerarquía: esto quiere decir que las primeras capas pueden detectar lineas, curvas y se van especializando hasta llegar a capas más profundas que reconocen formas complejas como un rostro o la silueta de un animal.\n",
        "Para entrenar este tipo de modelos, necesitmaos varias fotos.</p>"
      ]
    },
    {
      "cell_type": "code",
      "metadata": {
        "id": "8OHs1TWUcR8N"
      },
      "source": [
        "def get_model(input_size, classes=7):\n",
        "     #Initialising the CNN\n",
        "    model = tf.keras.models.Sequential()   \n",
        "\n",
        "    model.add(Conv2D(32, kernel_size=(3, 3), padding='same', activation='relu', input_shape =input_size))\n",
        "    model.add(Conv2D(64, kernel_size=(3, 3), activation='relu', padding='same'))\n",
        "    model.add(BatchNormalization())\n",
        "    model.add(MaxPooling2D(2, 2))\n",
        "    model.add(Dropout(0.25))\n",
        "\n",
        "    model.add(Conv2D(128, kernel_size=(3, 3), activation='relu', padding='same', kernel_regularizer=regularizers.l2(0.01)))\n",
        "    model.add(Conv2D(256, kernel_size=(3, 3), activation='relu', kernel_regularizer=regularizers.l2(0.01)))\n",
        "    model.add(BatchNormalization())\n",
        "    model.add(MaxPooling2D(pool_size=(2, 2)))\n",
        "    model.add(Dropout(0.25))\n",
        "\n",
        "    model.add(Flatten())\n",
        "    model.add(Dense(512, activation='relu'))\n",
        "    model.add(Dropout(0.5))\n",
        "    \n",
        "    model.add(Dense(classes, activation='softmax'))\n",
        "\n",
        "    #Compliling the model\n",
        "    model.compile(optimizer=Adam(lr=0.0001, decay=1e-6), \n",
        "                  loss='categorical_crossentropy', \n",
        "                  metrics=['accuracy'])\n",
        "    return model"
      ],
      "execution_count": null,
      "outputs": []
    },
    {
      "cell_type": "markdown",
      "metadata": {
        "id": "9vVPQ1-mdxBP"
      },
      "source": [
        "<p> Se obtiene el resumen del modelo que se creó y se guardó</p>"
      ]
    },
    {
      "cell_type": "code",
      "metadata": {
        "colab": {
          "base_uri": "https://localhost:8080/"
        },
        "id": "tIfaD3IgcR8Y",
        "outputId": "b6e2caaf-3a72-48d4-9aef-817f3831bfb9"
      },
      "source": [
        "fernet = get_model((row,col,1), classes)\n",
        "fernet.summary()"
      ],
      "execution_count": null,
      "outputs": [
        {
          "output_type": "stream",
          "text": [
            "Model: \"sequential_1\"\n",
            "_________________________________________________________________\n",
            "Layer (type)                 Output Shape              Param #   \n",
            "=================================================================\n",
            "conv2d_4 (Conv2D)            (None, 48, 48, 32)        320       \n",
            "_________________________________________________________________\n",
            "conv2d_5 (Conv2D)            (None, 48, 48, 64)        18496     \n",
            "_________________________________________________________________\n",
            "batch_normalization_2 (Batch (None, 48, 48, 64)        256       \n",
            "_________________________________________________________________\n",
            "max_pooling2d_2 (MaxPooling2 (None, 24, 24, 64)        0         \n",
            "_________________________________________________________________\n",
            "dropout_3 (Dropout)          (None, 24, 24, 64)        0         \n",
            "_________________________________________________________________\n",
            "conv2d_6 (Conv2D)            (None, 24, 24, 128)       73856     \n",
            "_________________________________________________________________\n",
            "conv2d_7 (Conv2D)            (None, 22, 22, 256)       295168    \n",
            "_________________________________________________________________\n",
            "batch_normalization_3 (Batch (None, 22, 22, 256)       1024      \n",
            "_________________________________________________________________\n",
            "max_pooling2d_3 (MaxPooling2 (None, 11, 11, 256)       0         \n",
            "_________________________________________________________________\n",
            "dropout_4 (Dropout)          (None, 11, 11, 256)       0         \n",
            "_________________________________________________________________\n",
            "flatten_1 (Flatten)          (None, 30976)             0         \n",
            "_________________________________________________________________\n",
            "dense_2 (Dense)              (None, 512)               15860224  \n",
            "_________________________________________________________________\n",
            "dropout_5 (Dropout)          (None, 512)               0         \n",
            "_________________________________________________________________\n",
            "dense_3 (Dense)              (None, 7)                 3591      \n",
            "=================================================================\n",
            "Total params: 16,252,935\n",
            "Trainable params: 16,252,295\n",
            "Non-trainable params: 640\n",
            "_________________________________________________________________\n"
          ],
          "name": "stdout"
        }
      ]
    },
    {
      "cell_type": "markdown",
      "metadata": {
        "id": "ZHKOuUG2dxBP"
      },
      "source": [
        "<p>Se crea los callbacks para usarlo más adelante en ele entrenamiento del modelo</p>"
      ]
    },
    {
      "cell_type": "code",
      "metadata": {
        "id": "UoKtVmjAcR8d"
      },
      "source": [
        "# \n",
        "chk_path = 'ferNet.h5'\n",
        "log_dir = \"checkpoint/logs/\" + datetime.datetime.now().strftime(\"%Y%m%d-%H%M%S\")\n",
        "\n",
        "checkpoint = ModelCheckpoint(filepath=chk_path,\n",
        "                             save_best_only=True,\n",
        "                             verbose=1,\n",
        "                             mode='min',\n",
        "                             moniter='val_loss')\n",
        "\n",
        "earlystop = EarlyStopping(monitor='val_loss', \n",
        "                          min_delta=0, \n",
        "                          patience=3, \n",
        "                          verbose=1, \n",
        "                          restore_best_weights=True)\n",
        "                        \n",
        "reduce_lr = ReduceLROnPlateau(monitor='val_loss', \n",
        "                              factor=0.2, \n",
        "                              patience=6, \n",
        "                              verbose=1, \n",
        "                              min_delta=0.0001)\n",
        "\n",
        "\n",
        "tensorboard_callback = tf.keras.callbacks.TensorBoard(log_dir=log_dir, histogram_freq=1)\n",
        "csv_logger = CSVLogger('training.log')\n",
        "\n",
        "callbacks = [checkpoint, reduce_lr, csv_logger]"
      ],
      "execution_count": null,
      "outputs": []
    },
    {
      "cell_type": "markdown",
      "metadata": {
        "id": "znsekSGfcR8l"
      },
      "source": [
        "<p> Se entrena el modelo </p>"
      ]
    },
    {
      "cell_type": "code",
      "metadata": {
        "colab": {
          "base_uri": "https://localhost:8080/"
        },
        "id": "HhsOpNcScR8m",
        "outputId": "792099dc-169d-4134-dfc7-c5929c58fa56"
      },
      "source": [
        "steps_per_epoch = training_set.n // training_set.batch_size\n",
        "validation_steps = test_set.n // test_set.batch_size\n",
        "\n",
        "hist = fernet.fit(x=training_set,\n",
        "                 validation_data=test_set,\n",
        "                 epochs=20,\n",
        "                 callbacks=callbacks,\n",
        "                 steps_per_epoch=steps_per_epoch,\n",
        "                 validation_steps=validation_steps)"
      ],
      "execution_count": null,
      "outputs": [
        {
          "output_type": "stream",
          "text": [
            "Epoch 1/20\n",
            "448/448 [==============================] - ETA: 0s - loss: 4.2117 - accuracy: 0.2680\n",
            "Epoch 00001: val_loss improved from inf to 4.99462, saving model to ferNet.h5\n",
            "448/448 [==============================] - 1598s 4s/step - loss: 4.2117 - accuracy: 0.2680 - val_loss: 4.9946 - val_accuracy: 0.2192\n",
            "Epoch 2/20\n",
            "448/448 [==============================] - ETA: 0s - loss: 3.4578 - accuracy: 0.3239\n",
            "Epoch 00002: val_loss improved from 4.99462 to 3.04676, saving model to ferNet.h5\n",
            "448/448 [==============================] - 869s 2s/step - loss: 3.4578 - accuracy: 0.3239 - val_loss: 3.0468 - val_accuracy: 0.3943\n",
            "Epoch 3/20\n",
            "448/448 [==============================] - ETA: 0s - loss: 2.9160 - accuracy: 0.3602\n",
            "Epoch 00003: val_loss improved from 3.04676 to 2.56781, saving model to ferNet.h5\n",
            "448/448 [==============================] - 405s 904ms/step - loss: 2.9160 - accuracy: 0.3602 - val_loss: 2.5678 - val_accuracy: 0.4203\n",
            "Epoch 4/20\n",
            "448/448 [==============================] - ETA: 0s - loss: 2.5057 - accuracy: 0.3873\n",
            "Epoch 00004: val_loss improved from 2.56781 to 2.29458, saving model to ferNet.h5\n",
            "448/448 [==============================] - 386s 861ms/step - loss: 2.5057 - accuracy: 0.3873 - val_loss: 2.2946 - val_accuracy: 0.4131\n",
            "Epoch 5/20\n",
            "448/448 [==============================] - ETA: 0s - loss: 2.2087 - accuracy: 0.4116\n",
            "Epoch 00005: val_loss improved from 2.29458 to 1.99936, saving model to ferNet.h5\n",
            "448/448 [==============================] - 386s 861ms/step - loss: 2.2087 - accuracy: 0.4116 - val_loss: 1.9994 - val_accuracy: 0.4542\n",
            "Epoch 6/20\n",
            "448/448 [==============================] - ETA: 0s - loss: 1.9790 - accuracy: 0.4370\n",
            "Epoch 00006: val_loss improved from 1.99936 to 1.76441, saving model to ferNet.h5\n",
            "448/448 [==============================] - 385s 859ms/step - loss: 1.9790 - accuracy: 0.4370 - val_loss: 1.7644 - val_accuracy: 0.4870\n",
            "Epoch 7/20\n",
            "448/448 [==============================] - ETA: 0s - loss: 1.8032 - accuracy: 0.4584\n",
            "Epoch 00007: val_loss improved from 1.76441 to 1.64577, saving model to ferNet.h5\n",
            "448/448 [==============================] - 388s 867ms/step - loss: 1.8032 - accuracy: 0.4584 - val_loss: 1.6458 - val_accuracy: 0.4933\n",
            "Epoch 8/20\n",
            "448/448 [==============================] - ETA: 0s - loss: 1.6789 - accuracy: 0.4726\n",
            "Epoch 00008: val_loss improved from 1.64577 to 1.54288, saving model to ferNet.h5\n",
            "448/448 [==============================] - 383s 855ms/step - loss: 1.6789 - accuracy: 0.4726 - val_loss: 1.5429 - val_accuracy: 0.4971\n",
            "Epoch 9/20\n",
            "448/448 [==============================] - ETA: 0s - loss: 1.5664 - accuracy: 0.4948\n",
            "Epoch 00009: val_loss improved from 1.54288 to 1.44095, saving model to ferNet.h5\n",
            "448/448 [==============================] - 388s 867ms/step - loss: 1.5664 - accuracy: 0.4948 - val_loss: 1.4410 - val_accuracy: 0.5226\n",
            "Epoch 10/20\n",
            "448/448 [==============================] - ETA: 0s - loss: 1.4889 - accuracy: 0.5040\n",
            "Epoch 00010: val_loss improved from 1.44095 to 1.39557, saving model to ferNet.h5\n",
            "448/448 [==============================] - 386s 861ms/step - loss: 1.4889 - accuracy: 0.5040 - val_loss: 1.3956 - val_accuracy: 0.5278\n",
            "Epoch 11/20\n",
            "448/448 [==============================] - ETA: 0s - loss: 1.4251 - accuracy: 0.5203\n",
            "Epoch 00011: val_loss improved from 1.39557 to 1.31619, saving model to ferNet.h5\n",
            "448/448 [==============================] - 383s 854ms/step - loss: 1.4251 - accuracy: 0.5203 - val_loss: 1.3162 - val_accuracy: 0.5516\n",
            "Epoch 12/20\n",
            "448/448 [==============================] - ETA: 0s - loss: 1.3655 - accuracy: 0.5310\n",
            "Epoch 00012: val_loss improved from 1.31619 to 1.25656, saving model to ferNet.h5\n",
            "448/448 [==============================] - 388s 867ms/step - loss: 1.3655 - accuracy: 0.5310 - val_loss: 1.2566 - val_accuracy: 0.5684\n",
            "Epoch 13/20\n",
            "448/448 [==============================] - ETA: 0s - loss: 1.3219 - accuracy: 0.5457\n",
            "Epoch 00013: val_loss improved from 1.25656 to 1.24776, saving model to ferNet.h5\n",
            "448/448 [==============================] - 544s 1s/step - loss: 1.3219 - accuracy: 0.5457 - val_loss: 1.2478 - val_accuracy: 0.5667\n",
            "Epoch 14/20\n",
            "448/448 [==============================] - ETA: 0s - loss: 1.2859 - accuracy: 0.5569\n",
            "Epoch 00014: val_loss improved from 1.24776 to 1.22945, saving model to ferNet.h5\n",
            "448/448 [==============================] - 694s 2s/step - loss: 1.2859 - accuracy: 0.5569 - val_loss: 1.2295 - val_accuracy: 0.5756\n",
            "Epoch 15/20\n",
            "448/448 [==============================] - ETA: 0s - loss: 1.2521 - accuracy: 0.5696\n",
            "Epoch 00015: val_loss did not improve from 1.22945\n",
            "448/448 [==============================] - 528s 1s/step - loss: 1.2521 - accuracy: 0.5696 - val_loss: 1.2527 - val_accuracy: 0.5675\n",
            "Epoch 16/20\n",
            "448/448 [==============================] - ETA: 0s - loss: 1.2228 - accuracy: 0.5797\n",
            "Epoch 00016: val_loss improved from 1.22945 to 1.18729, saving model to ferNet.h5\n",
            "448/448 [==============================] - 394s 879ms/step - loss: 1.2228 - accuracy: 0.5797 - val_loss: 1.1873 - val_accuracy: 0.5858\n",
            "Epoch 17/20\n",
            "448/448 [==============================] - ETA: 0s - loss: 1.1893 - accuracy: 0.5876\n",
            "Epoch 00017: val_loss improved from 1.18729 to 1.15622, saving model to ferNet.h5\n",
            "448/448 [==============================] - 390s 871ms/step - loss: 1.1893 - accuracy: 0.5876 - val_loss: 1.1562 - val_accuracy: 0.5989\n",
            "Epoch 18/20\n",
            "448/448 [==============================] - ETA: 0s - loss: 1.1689 - accuracy: 0.5949\n",
            "Epoch 00018: val_loss improved from 1.15622 to 1.14285, saving model to ferNet.h5\n",
            "448/448 [==============================] - 390s 869ms/step - loss: 1.1689 - accuracy: 0.5949 - val_loss: 1.1428 - val_accuracy: 0.6023\n",
            "Epoch 19/20\n",
            "448/448 [==============================] - ETA: 0s - loss: 1.1470 - accuracy: 0.6028\n",
            "Epoch 00019: val_loss improved from 1.14285 to 1.12414, saving model to ferNet.h5\n",
            "448/448 [==============================] - 388s 865ms/step - loss: 1.1470 - accuracy: 0.6028 - val_loss: 1.1241 - val_accuracy: 0.6148\n",
            "Epoch 20/20\n",
            "448/448 [==============================] - ETA: 0s - loss: 1.1274 - accuracy: 0.6119\n",
            "Epoch 00020: val_loss did not improve from 1.12414\n",
            "448/448 [==============================] - 384s 858ms/step - loss: 1.1274 - accuracy: 0.6119 - val_loss: 1.1667 - val_accuracy: 0.5967\n"
          ],
          "name": "stdout"
        }
      ]
    },
    {
      "cell_type": "markdown",
      "metadata": {
        "id": "_K0dIfSQdxBP"
      },
      "source": [
        "<p> Importaciones de librerías para la parte gráfica y muestra del video e imágen<p>"
      ]
    },
    {
      "cell_type": "code",
      "metadata": {
        "id": "CXV55G9v_deK"
      },
      "source": [
        "#!pip install opencv-python\n",
        "\n",
        "import tkinter as tk\n",
        "from tkinter import *\n",
        "import cv2\n",
        "from PIL import Image, ImageTk\n",
        "import os\n",
        "#import cv2\n",
        "from keras.models import Sequential\n",
        "from keras.layers import Dense, Dropout, Flatten\n",
        "from keras.layers import Conv2D\n",
        "from keras.optimizers import Adam\n",
        "from keras.layers import MaxPooling2D\n",
        "from keras.preprocessing.image import ImageDataGenerator\n",
        "import tensorflow as tf\n",
        "import numpy as np\n",
        "import pandas as pd\n",
        "import os\n",
        "import tensorflow as tf\n",
        "from keras.preprocessing.image import ImageDataGenerator, load_img\n",
        "from keras.layers import Conv2D, Dense, BatchNormalization, Activation, Dropout, MaxPooling2D, Flatten\n",
        "from keras.optimizers import Adam, RMSprop, SGD\n",
        "from keras import regularizers\n",
        "from keras.callbacks import ModelCheckpoint, CSVLogger, TensorBoard, EarlyStopping, ReduceLROnPlateau\n",
        "import datetime\n",
        "import matplotlib.pyplot as plt\n",
        "from keras.utils import plot_model"
      ],
      "execution_count": null,
      "outputs": []
    },
    {
      "cell_type": "markdown",
      "metadata": {
        "id": "ebcDCbaadxBP"
      },
      "source": [
        "<p> Se crea el modelo con los pesos del modelo previamente guardado fernet, el uso de esto es concido como transferencia de aprendizaje, ya que utiliza un modelo pre-establecido y guardado para usarlo y mejorarlo dentro de otro modelo.</p>"
      ]
    },
    {
      "cell_type": "code",
      "metadata": {
        "id": "QxO1Mc3E_jMt"
      },
      "source": [
        "model = tf.keras.models.Sequential()   \n",
        "\n",
        "model.add(Conv2D(32, kernel_size=(3, 3), padding='same', activation='relu', input_shape =(48,48,1)))\n",
        "model.add(Conv2D(64, kernel_size=(3, 3), activation='relu', padding='same'))\n",
        "model.add(BatchNormalization())\n",
        "model.add(MaxPooling2D(2, 2))\n",
        "model.add(Dropout(0.25))\n",
        "\n",
        "model.add(Conv2D(128, kernel_size=(3, 3), activation='relu', padding='same', kernel_regularizer=regularizers.l2(0.01)))\n",
        "model.add(Conv2D(256, kernel_size=(3, 3), activation='relu', kernel_regularizer=regularizers.l2(0.01)))\n",
        "model.add(BatchNormalization())\n",
        "model.add(MaxPooling2D(pool_size=(2, 2)))\n",
        "model.add(Dropout(0.25))\n",
        "\n",
        "model.add(Flatten())\n",
        "model.add(Dense(512, activation='relu'))\n",
        "model.add(Dropout(0.5))\n",
        "\n",
        "model.add(Dense(7, activation='softmax'))\n",
        "model.load_weights('ferNet.h5')"
      ],
      "execution_count": null,
      "outputs": []
    },
    {
      "cell_type": "markdown",
      "metadata": {
        "id": "lTYpDKfidxBP"
      },
      "source": [
        "<p>Se crea un diccionario para las emociones y se relacionan con las imágenes de emojis</p>"
      ]
    },
    {
      "cell_type": "code",
      "metadata": {
        "id": "wBP7sKdL_oD7"
      },
      "source": [
        "cv2.ocl.setUseOpenCL(False)\n",
        "\n",
        "emotion_dict = {0: \"   Angry   \", 1: \"Disgusted\", 2: \"  Fearful  \", 3: \"   Happy   \", 4: \"  Neutral  \", 5: \"    Sad    \", 6: \"Surprised\"}\n",
        "\n",
        "\n",
        "emoji_dist={0:\"Emojis/emojis/angry.png\",2:\"Emojis/emojis/disgusted.png\",2:\"Emojis/emojis/fearful.png\",3:\"Emojis/emojis/happy.png\",\n",
        "            4:\"Emojis/emojis/neutral.png\",5:\"Emojis/emojis/sad.png\",6:\"Emojis/emojis/surpriced.png\"}"
      ],
      "execution_count": null,
      "outputs": []
    },
    {
      "cell_type": "markdown",
      "metadata": {
        "id": "O-sON4LMdxBP"
      },
      "source": [
        "<p>Se inicializa el frame de la GUI</p>"
      ]
    },
    {
      "cell_type": "code",
      "metadata": {
        "id": "Y-nGz0u__tuh"
      },
      "source": [
        "global last_frame1                                   \n",
        "last_frame1 = np.zeros((480, 640, 3), dtype=np.uint8)\n",
        "global cap1\n",
        "show_text=[0]"
      ],
      "execution_count": null,
      "outputs": []
    },
    {
      "cell_type": "markdown",
      "metadata": {
        "id": "8118pwXZdxBP"
      },
      "source": [
        "<p> Se crea la función vid1 para mostrar en el primer rectángulo el video con el reconocimiento de donde se encuentra la cara por medio de un rectángulo azul </p>"
      ]
    },
    {
      "cell_type": "code",
      "metadata": {
        "id": "kP2iXs5m_wVP"
      },
      "source": [
        "def show_vid():      \n",
        "    #cap1 = cv2.VideoCapture(0)                                 \n",
        "    if not cap1.isOpened():                             \n",
        "        print(\"cant open the camera1\")\n",
        "    flag1, frame1 = cap1.read()\n",
        "   # frame1 = cv2.resize(frame1,(600,500))\n",
        "\n",
        "    bounding_box = cv2.CascadeClassifier('Emojis/Cascades/haarcascade_frontalface_default.xml')\n",
        "    gray_frame = cv2.cvtColor(frame1, cv2.COLOR_BGR2GRAY)\n",
        "    num_faces = bounding_box.detectMultiScale(gray_frame,scaleFactor=1.3, minNeighbors=5)\n",
        "\n",
        "    for (x, y, w, h) in num_faces:\n",
        "        cv2.rectangle(frame1, (x, y-50), (x+w, y+h+10), (255, 0, 0), 2)\n",
        "        roi_gray_frame = gray_frame[y:y + h, x:x + w]\n",
        "        cropped_img = np.expand_dims(np.expand_dims(cv2.resize(roi_gray_frame, (48, 48)), -1), 0)\n",
        "        prediction = model.predict(cropped_img)\n",
        "        \n",
        "        maxindex = int(np.argmax(prediction))\n",
        "        cv2.putText(frame1, emotion_dict[maxindex], (x+20, y-60), cv2.FONT_HERSHEY_SIMPLEX, 1, (255, 255, 255), 2, cv2.LINE_AA)\n",
        "        show_text[0]=maxindex\n",
        "    if flag1 is None:\n",
        "        print (\"Major error!\")\n",
        "    elif flag1:\n",
        "        global last_frame1\n",
        "        last_frame1 = frame1.copy()\n",
        "        pic = cv2.cvtColor(last_frame1, cv2.COLOR_BGR2RGB)     \n",
        "        img = Image.fromarray(pic)\n",
        "        imgtk = ImageTk.PhotoImage(image=img)\n",
        "        lmain.imgtk = imgtk\n",
        "        lmain.configure(image=imgtk)\n",
        "        lmain.after(10, show_vid)\n",
        "    if cv2.waitKey(1) & 0xFF == ord('q'):\n",
        "        exit()\n",
        "    \n",
        "    '''_, frame = cap.read()\n",
        "    cv2image = cv2.cvtColor(frame, cv2.COLOR_BGR2RGBA)\n",
        "    bounding_box = cv2.CascadeClassifier('Emojis/Cascades/haarcascade_frontalface_default.xml')\n",
        "    \n",
        "    num_faces = bounding_box.detectMultiScale(cv2image,scaleFactor=1.3, minNeighbors=5)  \n",
        "    \n",
        "    for (x, y, w, h) in num_faces:\n",
        "        cv2.rectangle(frame, (x, y-50), (x+w, y+h+10), (255, 0, 0), 2)\n",
        "        roi_gray_frame = cv2image[y:y + h, x:x + w]\n",
        "        a = cv2.resize(roi_gray_frame, (48, 48))\n",
        "       \n",
        "        b = np.expand_dims(a, -1)\n",
        "        \n",
        "\n",
        "        c = np.expand_dims(b, 0)\n",
        "        #c.reshape(48,48,1)\n",
        "        #c = tf.reshape(c,[48,48,1])\n",
        "        #print(c.shape)\n",
        "   \n",
        "       \n",
        "        cropped_img = c #np.expand_dims(np.expand_dims(cv2.resize(roi_gray_frame, (48, 48)), -1), 0)\n",
        "        \n",
        "        prediction = model.predict(cropped_img)\n",
        "        maxindex = int(np.argmax(prediction))\n",
        "        cv2.putText(frame, emotion_dict[maxindex], (x+20, y-60), cv2.FONT_HERSHEY_SIMPLEX, 1, (255, 255, 255), 2, cv2.LINE_AA)\n",
        "        show_text[0]=maxindex\n",
        "        \n",
        "        global last_frame\n",
        "        last_frame = frame.copy()\n",
        "        pic = cv2.cvtColor(last_frame, cv2.COLOR_BGR2RGB)\n",
        "        \n",
        "        img = Image.fromarray(pic)\n",
        "        imgtk = ImageTk.PhotoImage(image=img)\n",
        "        lmain.imgtk = imgtk\n",
        "        lmain.configure(image=imgtk)\n",
        "        lmain.after(100, show_vid)'''\n",
        "       \n",
        "    "
      ],
      "execution_count": null,
      "outputs": []
    },
    {
      "cell_type": "markdown",
      "metadata": {
        "id": "KTihJPFxdxBQ"
      },
      "source": [
        "<p>Se crea la función vid2, el cual representa el segundo espacio dentro de la interfaz, donde se va a mostrar el emoji según el reconocimiento facial de emociones</p>"
      ]
    },
    {
      "cell_type": "code",
      "metadata": {
        "id": "4gN1rEux_1Wm"
      },
      "source": [
        "def show_vid2():\n",
        "    frame2=cv2.imread(emoji_dist[show_text[0]])\n",
        "    pic2=cv2.cvtColor(frame2, cv2.COLOR_BGR2RGBA)\n",
        "    img2=Image.fromarray(frame2)\n",
        "    imgtk2=ImageTk.PhotoImage(image=img2)\n",
        "    lmain2.imgtk2=imgtk2\n",
        "    lmain3.configure(text=emotion_dict[show_text[0]],font=('arial',45,'bold'))\n",
        "    \n",
        "    lmain2.configure(image=imgtk2)\n",
        "    lmain2.after(10, show_vid2)"
      ],
      "execution_count": null,
      "outputs": []
    },
    {
      "cell_type": "markdown",
      "metadata": {
        "id": "AO4iVTYrdxBQ"
      },
      "source": [
        "<p> En esta sección es el main para crear la interfaz gráfica, y es aquí donde se llaman las funciones de vid1 y vid2 </p>"
      ]
    },
    {
      "cell_type": "code",
      "metadata": {
        "id": "pzQy15XZcR8w"
      },
      "source": [
        "if __name__ == '__main__':\n",
        "    root=tk.Tk()   \n",
        "    #img = ImageTk.PhotoImage(Image.open(\"angry.png\"))\n",
        "    #heading = Label(root,image=img,bg='black')\n",
        "    \n",
        "    #heading.pack() \n",
        "    #heading2=Label(root,text=\"Photo to Emoji\",pady=20, font=('arial',45,'bold'),bg='black',fg='#CDCDCD')                                 \n",
        "    \n",
        "    #heading2.pack()\n",
        "    lmain = tk.Label(master=root,padx=50,bd=10)\n",
        "    lmain2 = tk.Label(master=root,bd=10)\n",
        "\n",
        "    lmain3=tk.Label(master=root,bd=10,fg=\"#CDCDCD\",bg='black')\n",
        "    lmain.pack(side=LEFT)\n",
        "    lmain.place(x=50,y=250)\n",
        "    lmain3.pack()\n",
        "    lmain3.place(x=960,y=250)\n",
        "    lmain2.pack(side=RIGHT)\n",
        "    lmain2.place(x=900,y=350)\n",
        "    \n",
        "\n",
        "\n",
        "    root.title(\"Photo To Emoji\")            \n",
        "    root.geometry(\"1400x900+100+10\") \n",
        "    root['bg']='black'\n",
        "    exitbutton = Button(root, text='Quit',fg=\"red\",command=root.destroy,font=('arial',25,'bold')).pack(side = BOTTOM)\n",
        "    \n",
        "    cap1 = cv2.VideoCapture(0)\n",
        "    show_vid()\n",
        "    show_vid2()\n",
        "    root.mainloop()"
      ],
      "execution_count": null,
      "outputs": []
    },
    {
      "cell_type": "markdown",
      "metadata": {
        "id": "QAfx6kgFcR86"
      },
      "source": [
        "<a id=\"c\"></a>\n",
        "### 3. Conclusión\n",
        "\n",
        "---\n",
        "[Regresar a contenido](#general)\n",
        "\n"
      ]
    },
    {
      "cell_type": "markdown",
      "metadata": {
        "id": "YBhk0ri0dxBQ"
      },
      "source": [
        "<p>A pesar que el la precisión del modelo entrenado sea del 61%, el modelo logra acertar la mayoría de veces la expresión emocional desplegada en el rostro de la persona. También podemos observar que lográ predecir a tiempo real a través de un video, el cual lo hace más dificil de predecir, ya que este no es una imágen estática. </p><br>\n",
        "<p>Para mejoral la presición de nuestro modelo podemos hacer uso más imágenes para entrenarlo o hacer uso de un modelo ya pre-definido u otro modelo. Si un modelo se usa dentro de otro modelo, este va a mejorar la precisión de nuestro modelo original. Uno de los modelos pre-definidos que podemos utilizar, son lo que ofrece keras, y a través del uso de tranfer learning, podemos utilizar varios modelos para mejorar el nuestro actual y subir su presición de aprendizaje y de predicción.</p>"
      ]
    }
  ]
}